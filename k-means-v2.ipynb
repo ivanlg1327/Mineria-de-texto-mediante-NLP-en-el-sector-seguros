{
 "cells": [
  {
   "cell_type": "code",
   "execution_count": 2,
   "metadata": {},
   "outputs": [],
   "source": [
    "from sklearn import preprocessing\n",
    "from sklearn.cluster import KMeans\n",
    "from sklearn.linear_model import LogisticRegression\n",
    "from sklearn.ensemble import RandomForestClassifier\n",
    "from sklearn.naive_bayes import MultinomialNB\n",
    "from sklearn.svm import LinearSVC\n",
    "from sklearn.model_selection import train_test_split\n",
    "from sklearn.metrics import classification_report, confusion_matrix\n",
    "from imblearn.over_sampling import RandomOverSampler\n",
    "from collections import Counter\n",
    "import seaborn as sns\n",
    "import pandas as pd\n",
    "import re\n",
    "import spacy\n",
    "import numpy as np\n",
    "import matplotlib.pyplot as plt\n",
    "from gensim.utils import simple_preprocess\n",
    "\n",
    "nlp = spacy.load('C:\\ProgramData\\Miniconda3\\Lib\\site-packages\\es_core_news_lg\\es_core_news_lg-3.2.0')\n"
   ]
  },
  {
   "cell_type": "code",
   "execution_count": null,
   "metadata": {},
   "outputs": [],
   "source": [
    "x_train = pd.read_csv(\"x_train.csv\",index_col=False)\n",
    "y_train = pd.read_csv(\"y_train.csv\",index_col=False)\n",
    "x_test = pd.read_csv(\"x_test.csv\",index_col=False)\n",
    "y_test = pd.read_csv(\"y_test.csv\",index_col=False)"
   ]
  },
  {
   "cell_type": "code",
   "execution_count": 18,
   "metadata": {},
   "outputs": [],
   "source": [
    "kmeans = KMeans(n_clusters=16,init='k-means++',max_iter=300,random_state=0)\n",
    "\n",
    "# Train the model using the training sets\n",
    "result=kmeans.fit(x_train)\n",
    "\n",
    "#Predict Output\n",
    "\n",
    "#kmeans.score(x_test,y_test)"
   ]
  },
  {
   "cell_type": "code",
   "execution_count": 33,
   "metadata": {},
   "outputs": [
    {
     "name": "stdout",
     "output_type": "stream",
     "text": [
      "KMeans(n_clusters=16, random_state=0)\n"
     ]
    }
   ],
   "source": [
    "print(result)"
   ]
  },
  {
   "cell_type": "code",
   "execution_count": 51,
   "metadata": {},
   "outputs": [
    {
     "name": "stdout",
     "output_type": "stream",
     "text": [
      "[ 2  2  2 ...  1 12  4]\n"
     ]
    }
   ],
   "source": [
    "clusters = kmeans.labels_\n",
    "print(len(clusters))\n"
   ]
  },
  {
   "cell_type": "code",
   "execution_count": 52,
   "metadata": {},
   "outputs": [],
   "source": [
    "final=x_train\n",
    "final['pred']=clusters\n"
   ]
  },
  {
   "cell_type": "code",
   "execution_count": 53,
   "metadata": {},
   "outputs": [
    {
     "data": {
      "text/html": [
       "<div>\n",
       "<style scoped>\n",
       "    .dataframe tbody tr th:only-of-type {\n",
       "        vertical-align: middle;\n",
       "    }\n",
       "\n",
       "    .dataframe tbody tr th {\n",
       "        vertical-align: top;\n",
       "    }\n",
       "\n",
       "    .dataframe thead th {\n",
       "        text-align: right;\n",
       "    }\n",
       "</style>\n",
       "<table border=\"1\" class=\"dataframe\">\n",
       "  <thead>\n",
       "    <tr style=\"text-align: right;\">\n",
       "      <th></th>\n",
       "      <th>POL_MotivoAnulacion</th>\n",
       "      <th>POL_DescripcionMotivo</th>\n",
       "      <th>encoded</th>\n",
       "      <th>pred</th>\n",
       "    </tr>\n",
       "  </thead>\n",
       "  <tbody>\n",
       "    <tr>\n",
       "      <th>0</th>\n",
       "      <td>5.0</td>\n",
       "      <td>pol</td>\n",
       "      <td>[2, 0, 0, 0, 0, 0, 0, 0, 0, 0, 0, 0, 0, 0, 0, ...</td>\n",
       "      <td>2</td>\n",
       "    </tr>\n",
       "    <tr>\n",
       "      <th>1</th>\n",
       "      <td>6.0</td>\n",
       "      <td>impago no renueva por precio</td>\n",
       "      <td>[3, 4, 5, 6, 7, 0, 0, 0, 0, 0, 0, 0, 0, 0, 0, ...</td>\n",
       "      <td>2</td>\n",
       "    </tr>\n",
       "    <tr>\n",
       "      <th>2</th>\n",
       "      <td>5.0</td>\n",
       "      <td>reemplazo</td>\n",
       "      <td>[8, 0, 0, 0, 0, 0, 0, 0, 0, 0, 0, 0, 0, 0, 0, ...</td>\n",
       "      <td>2</td>\n",
       "    </tr>\n",
       "    <tr>\n",
       "      <th>3</th>\n",
       "      <td>7.0</td>\n",
       "      <td>ninguno solicitud asegurado otras causas</td>\n",
       "      <td>[9, 10, 11, 12, 13, 0, 0, 0, 0, 0, 0, 0, 0, 0,...</td>\n",
       "      <td>2</td>\n",
       "    </tr>\n",
       "    <tr>\n",
       "      <th>4</th>\n",
       "      <td>6.0</td>\n",
       "      <td>camibo a allianz</td>\n",
       "      <td>[1, 14, 15, 0, 0, 0, 0, 0, 0, 0, 0, 0, 0, 0, 0...</td>\n",
       "      <td>2</td>\n",
       "    </tr>\n",
       "    <tr>\n",
       "      <th>...</th>\n",
       "      <td>...</td>\n",
       "      <td>...</td>\n",
       "      <td>...</td>\n",
       "      <td>...</td>\n",
       "    </tr>\n",
       "    <tr>\n",
       "      <th>143919</th>\n",
       "      <td>1.0</td>\n",
       "      <td>correo jvidal anulacion</td>\n",
       "      <td>[77, 3190, 26, 0, 0, 0, 0, 0, 0, 0, 0, 0, 0, 0...</td>\n",
       "      <td>4</td>\n",
       "    </tr>\n",
       "    <tr>\n",
       "      <th>143920</th>\n",
       "      <td>8.0</td>\n",
       "      <td>contrata con banco</td>\n",
       "      <td>[216, 82, 83, 0, 0, 0, 0, 0, 0, 0, 0, 0, 0, 0,...</td>\n",
       "      <td>2</td>\n",
       "    </tr>\n",
       "    <tr>\n",
       "      <th>143921</th>\n",
       "      <td>8.0</td>\n",
       "      <td>vendera veh</td>\n",
       "      <td>[3159, 919, 0, 0, 0, 0, 0, 0, 0, 0, 0, 0, 0, 0...</td>\n",
       "      <td>1</td>\n",
       "    </tr>\n",
       "    <tr>\n",
       "      <th>143922</th>\n",
       "      <td>3.0</td>\n",
       "      <td>web cia</td>\n",
       "      <td>[924, 67, 0, 0, 0, 0, 0, 0, 0, 0, 0, 0, 0, 0, ...</td>\n",
       "      <td>12</td>\n",
       "    </tr>\n",
       "    <tr>\n",
       "      <th>143923</th>\n",
       "      <td>8.0</td>\n",
       "      <td>no expresa motivo</td>\n",
       "      <td>[4, 2846, 108, 0, 0, 0, 0, 0, 0, 0, 0, 0, 0, 0...</td>\n",
       "      <td>4</td>\n",
       "    </tr>\n",
       "  </tbody>\n",
       "</table>\n",
       "<p>143924 rows × 4 columns</p>\n",
       "</div>"
      ],
      "text/plain": [
       "        POL_MotivoAnulacion                     POL_DescripcionMotivo  \\\n",
       "0                       5.0                                      pol    \n",
       "1                       6.0              impago no renueva por precio   \n",
       "2                       5.0                                 reemplazo   \n",
       "3                       7.0  ninguno solicitud asegurado otras causas   \n",
       "4                       6.0                          camibo a allianz   \n",
       "...                     ...                                       ...   \n",
       "143919                  1.0                   correo jvidal anulacion   \n",
       "143920                  8.0                        contrata con banco   \n",
       "143921                  8.0                               vendera veh   \n",
       "143922                  3.0                                   web cia   \n",
       "143923                  8.0                         no expresa motivo   \n",
       "\n",
       "                                                  encoded  pred  \n",
       "0       [2, 0, 0, 0, 0, 0, 0, 0, 0, 0, 0, 0, 0, 0, 0, ...     2  \n",
       "1       [3, 4, 5, 6, 7, 0, 0, 0, 0, 0, 0, 0, 0, 0, 0, ...     2  \n",
       "2       [8, 0, 0, 0, 0, 0, 0, 0, 0, 0, 0, 0, 0, 0, 0, ...     2  \n",
       "3       [9, 10, 11, 12, 13, 0, 0, 0, 0, 0, 0, 0, 0, 0,...     2  \n",
       "4       [1, 14, 15, 0, 0, 0, 0, 0, 0, 0, 0, 0, 0, 0, 0...     2  \n",
       "...                                                   ...   ...  \n",
       "143919  [77, 3190, 26, 0, 0, 0, 0, 0, 0, 0, 0, 0, 0, 0...     4  \n",
       "143920  [216, 82, 83, 0, 0, 0, 0, 0, 0, 0, 0, 0, 0, 0,...     2  \n",
       "143921  [3159, 919, 0, 0, 0, 0, 0, 0, 0, 0, 0, 0, 0, 0...     1  \n",
       "143922  [924, 67, 0, 0, 0, 0, 0, 0, 0, 0, 0, 0, 0, 0, ...    12  \n",
       "143923  [4, 2846, 108, 0, 0, 0, 0, 0, 0, 0, 0, 0, 0, 0...     4  \n",
       "\n",
       "[143924 rows x 4 columns]"
      ]
     },
     "execution_count": 53,
     "metadata": {},
     "output_type": "execute_result"
    }
   ],
   "source": [
    "final"
   ]
  },
  {
   "cell_type": "code",
   "execution_count": 60,
   "metadata": {},
   "outputs": [
    {
     "data": {
      "text/plain": [
       "pred\n",
       "2       6714\n",
       "8       4839\n",
       "0       1813\n",
       "12      1421\n",
       "15       460\n",
       "11       393\n",
       "3        177\n",
       "9        175\n",
       "13       101\n",
       "14        87\n",
       "4         85\n",
       "1         60\n",
       "5         50\n",
       "6         49\n",
       "10        49\n",
       "7         38\n",
       "dtype: int64"
      ]
     },
     "execution_count": 60,
     "metadata": {},
     "output_type": "execute_result"
    }
   ],
   "source": [
    "cat1=final.loc[\n",
    "     (final.POL_MotivoAnulacion == 1),\n",
    "     [\n",
    "       \"pred\"\n",
    "    ],\n",
    "]\n",
    "cat1.value_counts()"
   ]
  },
  {
   "cell_type": "code",
   "execution_count": 59,
   "metadata": {},
   "outputs": [
    {
     "data": {
      "text/plain": [
       "pred\n",
       "2       2196\n",
       "11       591\n",
       "3        483\n",
       "12       372\n",
       "15       316\n",
       "13       271\n",
       "4        205\n",
       "9        199\n",
       "0        175\n",
       "6        153\n",
       "1        143\n",
       "10       136\n",
       "5         80\n",
       "14        65\n",
       "7         57\n",
       "8         38\n",
       "dtype: int64"
      ]
     },
     "execution_count": 59,
     "metadata": {},
     "output_type": "execute_result"
    }
   ],
   "source": [
    "cat2=final.loc[\n",
    "     (final.POL_MotivoAnulacion == 2),\n",
    "     [\n",
    "       \"pred\"\n",
    "    ],\n",
    "]\n",
    "cat2.value_counts()"
   ]
  },
  {
   "cell_type": "code",
   "execution_count": 61,
   "metadata": {},
   "outputs": [
    {
     "data": {
      "text/plain": [
       "pred\n",
       "1       11045\n",
       "12       5241\n",
       "2        4275\n",
       "11        409\n",
       "15        391\n",
       "3         387\n",
       "8         360\n",
       "6         353\n",
       "0         348\n",
       "9         202\n",
       "4         140\n",
       "13         65\n",
       "10         60\n",
       "14         35\n",
       "5          30\n",
       "7          20\n",
       "dtype: int64"
      ]
     },
     "execution_count": 61,
     "metadata": {},
     "output_type": "execute_result"
    }
   ],
   "source": [
    "cat3=final.loc[\n",
    "     (final.POL_MotivoAnulacion == 3),\n",
    "     [\n",
    "       \"pred\"\n",
    "    ],\n",
    "]\n",
    "cat3.value_counts()"
   ]
  },
  {
   "cell_type": "code",
   "execution_count": 62,
   "metadata": {},
   "outputs": [
    {
     "data": {
      "text/plain": [
       "pred\n",
       "2       1442\n",
       "11       768\n",
       "15       299\n",
       "0        211\n",
       "12       138\n",
       "9         74\n",
       "5         57\n",
       "13        56\n",
       "3         40\n",
       "6         33\n",
       "14        33\n",
       "4         32\n",
       "7         29\n",
       "1         28\n",
       "10        19\n",
       "8         18\n",
       "dtype: int64"
      ]
     },
     "execution_count": 62,
     "metadata": {},
     "output_type": "execute_result"
    }
   ],
   "source": [
    "cat4=final.loc[\n",
    "     (final.POL_MotivoAnulacion == 4),\n",
    "     [\n",
    "       \"pred\"\n",
    "    ],\n",
    "]\n",
    "cat4.value_counts()"
   ]
  },
  {
   "cell_type": "code",
   "execution_count": 63,
   "metadata": {},
   "outputs": [
    {
     "data": {
      "text/plain": [
       "pred\n",
       "2       11163\n",
       "3         749\n",
       "12        729\n",
       "15        687\n",
       "11        638\n",
       "0         413\n",
       "1         323\n",
       "10        278\n",
       "5         249\n",
       "9         249\n",
       "6         246\n",
       "13        216\n",
       "4         185\n",
       "14        142\n",
       "7          91\n",
       "8          82\n",
       "dtype: int64"
      ]
     },
     "execution_count": 63,
     "metadata": {},
     "output_type": "execute_result"
    }
   ],
   "source": [
    "cat5=final.loc[\n",
    "     (final.POL_MotivoAnulacion == 5),\n",
    "     [\n",
    "       \"pred\"\n",
    "    ],\n",
    "]\n",
    "cat5.value_counts()"
   ]
  },
  {
   "cell_type": "code",
   "execution_count": 64,
   "metadata": {},
   "outputs": [
    {
     "data": {
      "text/plain": [
       "pred\n",
       "2       6902\n",
       "12      1368\n",
       "0        683\n",
       "15       590\n",
       "1        456\n",
       "10       419\n",
       "11       321\n",
       "8        281\n",
       "3        169\n",
       "9        164\n",
       "6        145\n",
       "13       139\n",
       "4        135\n",
       "14        93\n",
       "5         47\n",
       "7         17\n",
       "dtype: int64"
      ]
     },
     "execution_count": 64,
     "metadata": {},
     "output_type": "execute_result"
    }
   ],
   "source": [
    "cat6=final.loc[\n",
    "     (final.POL_MotivoAnulacion == 6),\n",
    "     [\n",
    "       \"pred\"\n",
    "    ],\n",
    "]\n",
    "cat6.value_counts()"
   ]
  },
  {
   "cell_type": "code",
   "execution_count": 65,
   "metadata": {},
   "outputs": [
    {
     "data": {
      "text/plain": [
       "pred\n",
       "2       11312\n",
       "1        5704\n",
       "11       1235\n",
       "15       1193\n",
       "12        940\n",
       "10        865\n",
       "0         839\n",
       "3         820\n",
       "13        339\n",
       "9         335\n",
       "4         285\n",
       "6         238\n",
       "7         158\n",
       "14        143\n",
       "8         116\n",
       "5         114\n",
       "dtype: int64"
      ]
     },
     "execution_count": 65,
     "metadata": {},
     "output_type": "execute_result"
    }
   ],
   "source": [
    "cat7=final.loc[\n",
    "     (final.POL_MotivoAnulacion == 7),\n",
    "     [\n",
    "       \"pred\"\n",
    "    ],\n",
    "]\n",
    "cat7.value_counts()"
   ]
  },
  {
   "cell_type": "code",
   "execution_count": 66,
   "metadata": {},
   "outputs": [
    {
     "data": {
      "text/plain": [
       "pred\n",
       "2       10092\n",
       "1        2537\n",
       "15       1950\n",
       "12       1532\n",
       "0        1296\n",
       "11       1132\n",
       "10        899\n",
       "4         680\n",
       "9         581\n",
       "13        421\n",
       "3         322\n",
       "8         276\n",
       "6         218\n",
       "14        217\n",
       "5         193\n",
       "7         105\n",
       "dtype: int64"
      ]
     },
     "execution_count": 66,
     "metadata": {},
     "output_type": "execute_result"
    }
   ],
   "source": [
    "cat8=final.loc[\n",
    "     (final.POL_MotivoAnulacion == 8),\n",
    "     [\n",
    "       \"pred\"\n",
    "    ],\n",
    "]\n",
    "cat8.value_counts()"
   ]
  },
  {
   "cell_type": "code",
   "execution_count": 67,
   "metadata": {},
   "outputs": [
    {
     "data": {
      "text/plain": [
       "pred\n",
       "2       348\n",
       "12       89\n",
       "15       31\n",
       "11       23\n",
       "0        13\n",
       "4        12\n",
       "3         9\n",
       "9         7\n",
       "13        6\n",
       "10        5\n",
       "8         4\n",
       "14        4\n",
       "1         3\n",
       "5         2\n",
       "6         1\n",
       "dtype: int64"
      ]
     },
     "execution_count": 67,
     "metadata": {},
     "output_type": "execute_result"
    }
   ],
   "source": [
    "cat9=final.loc[\n",
    "     (final.POL_MotivoAnulacion == 9),\n",
    "     [\n",
    "       \"pred\"\n",
    "    ],\n",
    "]\n",
    "cat9.value_counts()"
   ]
  },
  {
   "cell_type": "code",
   "execution_count": 68,
   "metadata": {},
   "outputs": [
    {
     "data": {
      "text/plain": [
       "pred\n",
       "2       1890\n",
       "11       420\n",
       "12       218\n",
       "6        196\n",
       "0        129\n",
       "15       102\n",
       "9        101\n",
       "1         73\n",
       "8         57\n",
       "3         41\n",
       "10        36\n",
       "13        34\n",
       "4         33\n",
       "14        15\n",
       "7         11\n",
       "5          6\n",
       "dtype: int64"
      ]
     },
     "execution_count": 68,
     "metadata": {},
     "output_type": "execute_result"
    }
   ],
   "source": [
    "cat10=final.loc[\n",
    "     (final.POL_MotivoAnulacion == 10),\n",
    "     [\n",
    "       \"pred\"\n",
    "    ],\n",
    "]\n",
    "cat10.value_counts()"
   ]
  },
  {
   "cell_type": "code",
   "execution_count": 69,
   "metadata": {},
   "outputs": [
    {
     "data": {
      "text/plain": [
       "pred\n",
       "1       1193\n",
       "2       1133\n",
       "3        754\n",
       "12       329\n",
       "15       235\n",
       "6        205\n",
       "11        73\n",
       "0         50\n",
       "13        46\n",
       "4         44\n",
       "9         44\n",
       "10        36\n",
       "14        34\n",
       "7         33\n",
       "5         15\n",
       "8          5\n",
       "dtype: int64"
      ]
     },
     "execution_count": 69,
     "metadata": {},
     "output_type": "execute_result"
    }
   ],
   "source": [
    "cat11=final.loc[\n",
    "     (final.POL_MotivoAnulacion == 11),\n",
    "     [\n",
    "       \"pred\"\n",
    "    ],\n",
    "]\n",
    "cat11.value_counts()"
   ]
  },
  {
   "attachments": {},
   "cell_type": "markdown",
   "metadata": {},
   "source": [
    "Metricas"
   ]
  }
 ],
 "metadata": {
  "interpreter": {
   "hash": "3132f7a729275460905ce50538cd1987892ffc1102ba7dba42e211caddde65d4"
  },
  "kernelspec": {
   "display_name": "Python 3.8.11 ('tfg')",
   "language": "python",
   "name": "python3"
  },
  "language_info": {
   "codemirror_mode": {
    "name": "ipython",
    "version": 3
   },
   "file_extension": ".py",
   "mimetype": "text/x-python",
   "name": "python",
   "nbconvert_exporter": "python",
   "pygments_lexer": "ipython3",
   "version": "3.8.11"
  },
  "orig_nbformat": 4
 },
 "nbformat": 4,
 "nbformat_minor": 2
}
